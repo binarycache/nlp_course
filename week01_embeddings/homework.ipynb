{
 "cells": [
  {
   "cell_type": "markdown",
   "source": "## Homework: Multilingual Embedding-based Machine Translation (7 points)",
   "metadata": {
    "cell_id": "00000-83b7b167-c026-431f-865a-f515d8db1566",
    "deepnote_cell_type": "markdown"
   }
  },
  {
   "cell_type": "markdown",
   "source": "**In this homework** **<font color='red'>YOU</font>** will make machine translation system without using parallel corpora, alignment, attention, 100500 depth super-cool recurrent neural network and all that kind superstuff.\n\nBut even without parallel corpora this system can be good enough (hopefully). \n\nFor our system we choose two kindred Slavic languages: Ukrainian and Russian. ",
   "metadata": {
    "cell_id": "00001-198e5ddf-9e4b-4692-b946-864aa4ed9244",
    "deepnote_cell_type": "markdown"
   }
  },
  {
   "cell_type": "markdown",
   "source": "### Feel the difference!\n\n(_синій кіт_ vs. _синій кит_)",
   "metadata": {
    "cell_id": "00002-a1e4ce8f-388c-44c3-aeeb-51d4b2ab7d6a",
    "deepnote_cell_type": "markdown"
   }
  },
  {
   "cell_type": "markdown",
   "source": "![blue_cat_blue_whale.png](https://github.com/yandexdataschool/nlp_course/raw/master/resources/blue_cat_blue_whale.png)",
   "metadata": {
    "cell_id": "00003-0d1db056-da06-4453-851b-c3c89e453ff6",
    "deepnote_cell_type": "markdown"
   }
  },
  {
   "cell_type": "markdown",
   "source": "### Frament of the Swadesh list for some slavic languages\n\nThe Swadesh list is a lexicostatistical stuff. It's named after American linguist Morris Swadesh and contains basic lexis. This list are used to define subgroupings of languages, its relatedness.\n\nSo we can see some kind of word invariance for different Slavic languages.\n\n\n| Russian         | Belorussian              | Ukrainian               | Polish             | Czech                         | Bulgarian            |\n|-----------------|--------------------------|-------------------------|--------------------|-------------------------------|-----------------------|\n| женщина         | жанчына, кабета, баба    | жінка                   | kobieta            | žena                          | жена                  |\n| мужчина         | мужчына                  | чоловік, мужчина        | mężczyzna          | muž                           | мъж                   |\n| человек         | чалавек                  | людина, чоловік         | człowiek           | člověk                        | човек                 |\n| ребёнок, дитя   | дзіця, дзіцёнак, немаўля | дитина, дитя            | dziecko            | dítě                          | дете                  |\n| жена            | жонка                    | дружина, жінка          | żona               | žena, manželka, choť          | съпруга, жена         |\n| муж             | муж, гаспадар            | чоловiк, муж            | mąż                | muž, manžel, choť             | съпруг, мъж           |\n| мать, мама      | маці, матка              | мати, матір, неня, мама | matka              | matka, máma, 'стар.' mateř    | майка                 |\n| отец, тятя      | бацька, тата             | батько, тато, татусь    | ojciec             | otec                          | баща, татко           |\n| много           | шмат, багата             | багато                  | wiele              | mnoho, hodně                  | много                 |\n| несколько       | некалькі, колькі         | декілька, кілька        | kilka              | několik, pár, trocha          | няколко               |\n| другой, иной    | іншы                     | інший                   | inny               | druhý, jiný                   | друг                  |\n| зверь, животное | жывёла, звер, істота     | тварина, звір           | zwierzę            | zvíře                         | животно               |\n| рыба            | рыба                     | риба                    | ryba               | ryba                          | риба                  |\n| птица           | птушка                   | птах, птиця             | ptak               | pták                          | птица                 |\n| собака, пёс     | сабака                   | собака, пес             | pies               | pes                           | куче, пес             |\n| вошь            | вош                      | воша                    | wesz               | veš                           | въшка                 |\n| змея, гад       | змяя                     | змія, гад               | wąż                | had                           | змия                  |\n| червь, червяк   | чарвяк                   | хробак, черв'як         | robak              | červ                          | червей                |\n| дерево          | дрэва                    | дерево                  | drzewo             | strom, dřevo                  | дърво                 |\n| лес             | лес                      | ліс                     | las                | les                           | гора, лес             |\n| палка           | кій, палка               | палиця                  | patyk, pręt, pałka | hůl, klacek, prut, kůl, pálka | палка, пръчка, бастун |",
   "metadata": {
    "cell_id": "00004-a70a1dcf-f585-45fa-817f-36dc5e7700f8",
    "deepnote_cell_type": "markdown"
   }
  },
  {
   "cell_type": "markdown",
   "source": "But the context distribution of these languages demonstrates even more invariance. And we can use this fact for our for our purposes.",
   "metadata": {
    "cell_id": "00005-443c39fd-8b28-4d02-9053-39086c003c1f",
    "deepnote_cell_type": "markdown"
   }
  },
  {
   "cell_type": "markdown",
   "source": "## Data",
   "metadata": {
    "cell_id": "00006-a9c63708-1294-471d-ad55-0d08f63eae6a",
    "deepnote_cell_type": "markdown"
   }
  },
  {
   "cell_type": "code",
   "metadata": {
    "cell_id": "00007-9b8917d5-0b57-45e3-b2c5-f5abfae1f0fe",
    "deepnote_cell_type": "code"
   },
   "source": "import gensim\nimport numpy as np\nfrom gensim.models import KeyedVectors",
   "outputs": [],
   "execution_count": null
  },
  {
   "cell_type": "markdown",
   "source": "Download embeddings here:\n* [cc.uk.300.vec.zip](https://yadi.sk/d/9CAeNsJiInoyUA)\n* [cc.ru.300.vec.zip](https://yadi.sk/d/3yG0-M4M8fypeQ)",
   "metadata": {
    "cell_id": "00008-0bcd1080-c781-48a6-95e3-d1c2897a9231",
    "deepnote_cell_type": "markdown"
   }
  },
  {
   "cell_type": "markdown",
   "source": "Load embeddings for ukrainian and russian.",
   "metadata": {
    "cell_id": "00009-70b67ac6-1897-4425-89e6-c04a60a5883c",
    "deepnote_cell_type": "markdown"
   }
  },
  {
   "cell_type": "code",
   "metadata": {
    "cell_id": "00010-914208f8-f781-4f42-8168-dca31c13e7da",
    "deepnote_cell_type": "code"
   },
   "source": "uk_emb = KeyedVectors.load_word2vec_format(\"cc.uk.300.vec\")",
   "outputs": [],
   "execution_count": null
  },
  {
   "cell_type": "code",
   "metadata": {
    "cell_id": "00011-6dfd77b7-825b-4b03-9b86-4ab7f2188cd2",
    "deepnote_cell_type": "code"
   },
   "source": "ru_emb = KeyedVectors.load_word2vec_format(\"cc.ru.300.vec\")",
   "outputs": [],
   "execution_count": null
  },
  {
   "cell_type": "code",
   "metadata": {
    "cell_id": "00012-fa96d2ef-d8fa-4f74-bc21-48d1027c9759",
    "deepnote_cell_type": "code"
   },
   "source": "ru_emb.most_similar([ru_emb[\"август\"]], topn=10)",
   "execution_count": null,
   "outputs": []
  },
  {
   "cell_type": "code",
   "metadata": {
    "cell_id": "00013-bbdc6d18-c16c-4c8f-a0a2-f3766f8b0de4",
    "deepnote_cell_type": "code"
   },
   "source": "uk_emb.most_similar([uk_emb[\"серпень\"]])",
   "execution_count": null,
   "outputs": []
  },
  {
   "cell_type": "code",
   "metadata": {
    "cell_id": "00014-693143c5-af35-4889-bb95-4d92a0a4fec5",
    "deepnote_cell_type": "code"
   },
   "source": "ru_emb.most_similar([uk_emb[\"серпень\"]])",
   "execution_count": null,
   "outputs": []
  },
  {
   "cell_type": "markdown",
   "source": "Load small dictionaries for correspoinding words pairs as trainset and testset.",
   "metadata": {
    "cell_id": "00015-58694d30-6a0b-4b56-8e7d-261aaf80f0f2",
    "deepnote_cell_type": "markdown"
   }
  },
  {
   "cell_type": "code",
   "metadata": {
    "cell_id": "00016-57287309-cd8c-429b-a37d-65e27477a8c1",
    "deepnote_cell_type": "code"
   },
   "source": "def load_word_pairs(filename):\n    uk_ru_pairs = []\n    uk_vectors = []\n    ru_vectors = []\n    with open(filename, \"r\") as inpf:\n        for line in inpf:\n            uk, ru = line.rstrip().split(\"\\t\")\n            if uk not in uk_emb or ru not in ru_emb:\n                continue\n            uk_ru_pairs.append((uk, ru))\n            uk_vectors.append(uk_emb[uk])\n            ru_vectors.append(ru_emb[ru])\n    return uk_ru_pairs, np.array(uk_vectors), np.array(ru_vectors)",
   "outputs": [],
   "execution_count": null
  },
  {
   "cell_type": "code",
   "metadata": {
    "cell_id": "00017-c51f9dd8-462c-413d-911e-67885278b432",
    "deepnote_cell_type": "code"
   },
   "source": "uk_ru_train, X_train, Y_train = load_word_pairs(\"ukr_rus.train.txt\")",
   "outputs": [],
   "execution_count": null
  },
  {
   "cell_type": "code",
   "metadata": {
    "cell_id": "00018-678ac33f-e7ab-4886-8f20-3e30ec01cf6e",
    "deepnote_cell_type": "code"
   },
   "source": "uk_ru_test, X_test, Y_test = load_word_pairs(\"ukr_rus.test.txt\")",
   "outputs": [],
   "execution_count": null
  },
  {
   "cell_type": "markdown",
   "source": "## Embedding space mapping",
   "metadata": {
    "cell_id": "00019-dcdcb88e-8538-43a7-9d2c-c95b1955a163",
    "deepnote_cell_type": "markdown"
   }
  },
  {
   "cell_type": "markdown",
   "source": "Let $x_i \\in \\mathrm{R}^d$ be the distributed representation of word $i$ in the source language, and $y_i \\in \\mathrm{R}^d$ is the vector representation of its translation. Our purpose is to learn such linear transform $W$ that minimizes euclidian distance between $Wx_i$ and $y_i$ for some subset of word embeddings. Thus we can formulate so-called Procrustes problem:\n\n$$W^*= \\arg\\min_W \\sum_{i=1}^n||Wx_i - y_i||_2$$\nor\n$$W^*= \\arg\\min_W ||WX - Y||_F$$\n\nwhere $||*||_F$ - Frobenius norm.\n\nIn Greek mythology, Procrustes or \"the stretcher\" was a rogue smith and bandit from Attica who attacked people by stretching them or cutting off their legs, so as to force them to fit the size of an iron bed. We make same bad things with source embedding space. Our Procrustean bed is target embedding space.",
   "metadata": {
    "cell_id": "00020-20f5ac54-7197-40a5-9fa2-0ef8a23a97bd",
    "deepnote_cell_type": "markdown"
   }
  },
  {
   "cell_type": "markdown",
   "source": "![embedding_mapping.png](https://github.com/yandexdataschool/nlp_course/raw/master/resources/embedding_mapping.png)",
   "metadata": {
    "cell_id": "00021-d82931a7-e423-4cdc-bd8b-bb4a4df165a8",
    "deepnote_cell_type": "markdown"
   }
  },
  {
   "cell_type": "markdown",
   "source": "![procrustes.png](https://github.com/yandexdataschool/nlp_course/raw/master/resources/procrustes.png)",
   "metadata": {
    "cell_id": "00022-c30e928f-01d6-4b22-a43e-21d91e28b88b",
    "deepnote_cell_type": "markdown"
   }
  },
  {
   "cell_type": "markdown",
   "source": "But wait...$W^*= \\arg\\min_W \\sum_{i=1}^n||Wx_i - y_i||_2$ looks like simple multiple linear regression (without intercept fit). So let's code.",
   "metadata": {
    "cell_id": "00023-9e3f5ed1-023f-4715-8309-3e0fd8839569",
    "deepnote_cell_type": "markdown"
   }
  },
  {
   "cell_type": "code",
   "metadata": {
    "cell_id": "00024-57da377a-02c9-40d5-a1a6-298e0b31b974",
    "deepnote_cell_type": "code"
   },
   "source": "from sklearn.linear_model import LinearRegression\n\n# YOUR CODE HERE",
   "outputs": [],
   "execution_count": null
  },
  {
   "cell_type": "markdown",
   "source": "Let's take a look at neigbours of the vector of word _\"серпень\"_ (_\"август\"_ in Russian) after linear transform.",
   "metadata": {
    "cell_id": "00025-bfcac38d-a069-49c5-8756-bdcf026aeb0c",
    "deepnote_cell_type": "markdown"
   }
  },
  {
   "cell_type": "code",
   "metadata": {
    "cell_id": "00026-1a7067f8-8e87-431c-bd5b-b827a4d28eac",
    "deepnote_cell_type": "code"
   },
   "source": "august = mapping.predict(uk_emb[\"серпень\"].reshape(1, -1))\nru_emb.most_similar(august)",
   "execution_count": null,
   "outputs": []
  },
  {
   "cell_type": "markdown",
   "source": "We can see that neighbourhood of this embedding cosists of different months, but right variant is on the ninth place.",
   "metadata": {
    "cell_id": "00027-21e92715-5916-48d7-b4e8-ff71dce129fc",
    "deepnote_cell_type": "markdown"
   }
  },
  {
   "cell_type": "markdown",
   "source": "As quality measure we will use precision top-1, top-5 and top-10 (for each transformed Ukrainian embedding we count how many right target pairs are found in top N nearest neighbours in Russian embedding space).",
   "metadata": {
    "cell_id": "00028-8e57ce11-335d-44f3-8cda-abe9f42590ca",
    "deepnote_cell_type": "markdown"
   }
  },
  {
   "cell_type": "code",
   "metadata": {
    "cell_id": "00029-9d9f0b72-2325-4919-87e1-c1a782d63a05",
    "deepnote_cell_type": "code"
   },
   "source": "def precision(pairs, mapped_vectors, topn=1):\n    \"\"\"\n    :args:\n        pairs = list of right word pairs [(uk_word_0, ru_word_0), ...]\n        mapped_vectors = list of embeddings after mapping from source embedding space to destination embedding space\n        topn = the number of nearest neighbours in destination embedding space to choose from\n    :returns:\n        precision_val, float number, total number of words for those we can find right translation at top K.\n    \"\"\"\n    assert len(pairs) == len(mapped_vectors)\n    num_matches = 0\n    for i, (_, ru) in enumerate(pairs):\n        # YOUR CODE HERE\n    precision_val = num_matches / len(pairs)\n    return precision_val\n",
   "outputs": [],
   "execution_count": null
  },
  {
   "cell_type": "code",
   "metadata": {
    "cell_id": "00030-6a30ac01-f267-46fc-8864-d099105f8d30",
    "deepnote_cell_type": "code"
   },
   "source": "assert precision([(\"серпень\", \"август\")], august, topn=5) == 0.0\nassert precision([(\"серпень\", \"август\")], august, topn=9) == 1.0\nassert precision([(\"серпень\", \"август\")], august, topn=10) == 1.0",
   "execution_count": null,
   "outputs": []
  },
  {
   "cell_type": "code",
   "metadata": {
    "cell_id": "00031-e558d926-844a-45a5-83da-55720c092c75",
    "deepnote_cell_type": "code"
   },
   "source": "assert precision(uk_ru_test, X_test) == 0.0\nassert precision(uk_ru_test, Y_test) == 1.0",
   "execution_count": null,
   "outputs": []
  },
  {
   "cell_type": "code",
   "metadata": {
    "cell_id": "00032-0a60e053-5ee0-41e1-85be-f30c682d863e",
    "deepnote_cell_type": "code"
   },
   "source": "precision_top1 = precision(uk_ru_test, mapping.predict(X_test), 1)\nprecision_top5 = precision(uk_ru_test, mapping.predict(X_test), 5)\n\nassert precision_top1 >= 0.635\nassert precision_top5 >= 0.813",
   "execution_count": null,
   "outputs": []
  },
  {
   "cell_type": "markdown",
   "source": "## Making it better (orthogonal Procrustean problem)",
   "metadata": {
    "cell_id": "00033-3164651c-b07a-4aaf-89bc-a0556876ba3a",
    "deepnote_cell_type": "markdown"
   }
  },
  {
   "cell_type": "markdown",
   "source": "It can be shown (see original paper) that a self-consistent linear mapping between semantic spaces should be orthogonal. \nWe can restrict transform $W$ to be orthogonal. Then we will solve next problem:\n\n$$W^*= \\arg\\min_W ||WX - Y||_F \\text{, where: } W^TW = I$$\n\n$$I \\text{- identity matrix}$$\n\nInstead of making yet another regression problem we can find optimal orthogonal transformation using singular value decomposition. It turns out that optimal transformation $W^*$ can be expressed via SVD components:\n$$X^TY=U\\Sigma V^T\\text{, singular value decompostion}$$\n$$W^*=UV^T$$",
   "metadata": {
    "cell_id": "00034-d542c81a-dc2a-4e7a-a483-f679d3da3d19",
    "deepnote_cell_type": "markdown"
   }
  },
  {
   "cell_type": "code",
   "metadata": {
    "cell_id": "00035-3a9afd89-ac36-494f-bc97-32173d0e2234",
    "deepnote_cell_type": "code"
   },
   "source": "def learn_transform(X_train, Y_train):\n    \"\"\" \n    :returns: W* : float matrix[emb_dim x emb_dim] as defined in formulae above\n    \"\"\"\n    # YOU CODE HERE",
   "outputs": [],
   "execution_count": null
  },
  {
   "cell_type": "code",
   "metadata": {
    "cell_id": "00036-21226379-579b-46d4-8331-0c0293893739",
    "deepnote_cell_type": "code"
   },
   "source": "W = learn_transform(X_train, Y_train)",
   "outputs": [],
   "execution_count": null
  },
  {
   "cell_type": "code",
   "metadata": {
    "cell_id": "00037-c6a3bb63-fbf2-43bc-b1da-601a054211a1",
    "deepnote_cell_type": "code"
   },
   "source": "ru_emb.most_similar([np.matmul(uk_emb[\"серпень\"], W)])",
   "execution_count": null,
   "outputs": []
  },
  {
   "cell_type": "code",
   "metadata": {
    "cell_id": "00038-f43e7228-69c2-4d0b-b781-83550ba38691",
    "deepnote_cell_type": "code"
   },
   "source": "assert precision(uk_ru_test, np.matmul(X_test, W)) >= 0.653\nassert precision(uk_ru_test, np.matmul(X_test, W), 5) >= 0.824",
   "execution_count": null,
   "outputs": []
  },
  {
   "cell_type": "markdown",
   "source": "## UK-RU Translator",
   "metadata": {
    "cell_id": "00039-1686c3bb-2faa-44ba-a3b9-def6ca658796",
    "deepnote_cell_type": "markdown"
   }
  },
  {
   "cell_type": "markdown",
   "source": "Now we are ready to make simple word-based translator: for earch word in source language in shared embedding space we find the nearest in target language.\n",
   "metadata": {
    "cell_id": "00040-39b42597-ebdd-444b-a5ca-a6461725da64",
    "deepnote_cell_type": "markdown"
   }
  },
  {
   "cell_type": "code",
   "metadata": {
    "cell_id": "00041-fb9fe2ba-2581-466f-8856-21cb4ec63a6b",
    "deepnote_cell_type": "code"
   },
   "source": "with open(\"fairy_tale.txt\", \"r\") as inpf:\n    uk_sentences = [line.rstrip().lower() for line in inpf]",
   "outputs": [],
   "execution_count": null
  },
  {
   "cell_type": "code",
   "metadata": {
    "cell_id": "00042-0a996c84-0161-42bb-82fd-9854973eeaa8",
    "deepnote_cell_type": "code"
   },
   "source": "def translate(sentence):\n    \"\"\"\n    :args:\n        sentence - sentence in Ukrainian (str)\n    :returns:\n        translation - sentence in Russian (str)\n\n    * find ukrainian embedding for each word in sentence\n    * transform ukrainian embedding vector\n    * find nearest russian word and replace\n    \"\"\"\n    # YOUR CODE HERE",
   "outputs": [],
   "execution_count": null
  },
  {
   "cell_type": "code",
   "metadata": {
    "cell_id": "00043-2134f3e4-3a73-4593-8d50-423c85173f09",
    "deepnote_cell_type": "code"
   },
   "source": "assert translate(\".\") == \".\"\nassert translate(\"1 , 3\") == \"1 , 3\"\nassert translate(\"кіт зловив мишу\") == \"кот поймал мышку\"",
   "execution_count": null,
   "outputs": []
  },
  {
   "cell_type": "code",
   "metadata": {
    "cell_id": "00044-709b56b3-820a-4db3-8feb-d8c8d1cb8614",
    "deepnote_cell_type": "code"
   },
   "source": "for sentence in uk_sentences:\n    print(\"src: {}\\ndst: {}\\n\".format(sentence, translate(sentence)))",
   "execution_count": null,
   "outputs": []
  },
  {
   "cell_type": "markdown",
   "source": "Not so bad, right? We can easily improve translation using language model and not one but several nearest neighbours in shared embedding space. But next time.",
   "metadata": {
    "cell_id": "00045-fef43077-ac75-41da-9593-cd0dc3c1dd37",
    "deepnote_cell_type": "markdown"
   }
  },
  {
   "cell_type": "markdown",
   "source": "## Would you like to learn more?\n\n### Articles:\n* [Exploiting Similarities among Languages for Machine Translation](https://arxiv.org/pdf/1309.4168)  - entry point for multilingual embedding studies by Tomas Mikolov (the author of W2V)\n* [Offline bilingual word vectors, orthogonal transformations and the inverted softmax](https://arxiv.org/pdf/1702.03859) - orthogonal transform for unsupervised MT\n* [Word Translation Without Parallel Data](https://arxiv.org/pdf/1710.04087)\n* [Loss in Translation: Learning Bilingual Word Mapping with a Retrieval Criterion](https://arxiv.org/pdf/1804.07745)\n* [Unsupervised Alignment of Embeddings with Wasserstein Procrustes](https://arxiv.org/pdf/1805.11222)\n\n### Repos (with ready-to-use multilingual embeddings):\n* https://github.com/facebookresearch/MUSE\n\n* https://github.com/Babylonpartners/fastText_multilingual -",
   "metadata": {
    "cell_id": "00046-1df6a9ba-6cbf-4224-8ed9-3e99eff8eaee",
    "deepnote_cell_type": "markdown"
   }
  },
  {
   "cell_type": "markdown",
   "source": "<a style='text-decoration:none;line-height:16px;display:flex;color:#5B5B62;padding:10px;justify-content:end;' href='https://deepnote.com?utm_source=created-in-deepnote-cell&projectId=dcd03e1a-e120-4eeb-b05f-6684779c3d8f' target=\"_blank\">\n<img alt='Created in deepnote.com' style='display:inline;max-height:16px;margin:0px;margin-right:7.5px;' src='data:image/svg+xml;base64,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' > </img>\nCreated in <span style='font-weight:600;margin-left:4px;'>Deepnote</span></a>",
   "metadata": {
    "tags": [],
    "created_in_deepnote_cell": true,
    "deepnote_cell_type": "markdown"
   }
  }
 ],
 "nbformat": 4,
 "nbformat_minor": 2,
 "metadata": {
  "kernelspec": {
   "display_name": "Python 3",
   "language": "python",
   "name": "python3"
  },
  "language_info": {
   "codemirror_mode": {
    "name": "ipython",
    "version": 3
   },
   "file_extension": ".py",
   "mimetype": "text/x-python",
   "name": "python",
   "nbconvert_exporter": "python",
   "pygments_lexer": "ipython3",
   "version": "3.4.3"
  },
  "deepnote_notebook_id": "864714d9-4f38-4cff-9c37-6933d20af281",
  "deepnote": {},
  "deepnote_execution_queue": []
 }
}